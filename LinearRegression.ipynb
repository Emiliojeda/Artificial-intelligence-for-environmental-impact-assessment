{
  "cells": [
    {
      "cell_type": "code",
      "execution_count": 166,
      "id": "93657605-4500-451e-8015-79f580e84853",
      "metadata": {
        "id": "93657605-4500-451e-8015-79f580e84853"
      },
      "outputs": [],
      "source": [
        "import numpy as np\n",
        "import pandas as pd\n",
        "import matplotlib.pyplot as plt\n",
        "from sklearn.model_selection import train_test_split\n",
        "from sklearn.linear_model import LinearRegression\n",
        "import seaborn as sns\n",
        "%matplotlib inline"
      ]
    },
    {
      "cell_type": "code",
      "execution_count": 167,
      "id": "888892eb-a26a-4b06-a967-792a7554507a",
      "metadata": {
        "colab": {
          "base_uri": "https://localhost:8080/",
          "height": 418
        },
        "id": "888892eb-a26a-4b06-a967-792a7554507a",
        "outputId": "c5e66c31-fe62-463a-8c4d-85bab0b9c1c6"
      },
      "outputs": [
        {
          "output_type": "execute_result",
          "data": {
            "text/plain": [
              "   Arena de cuarzo  Tetracloruro de silicio (> 99%)  Electricidad  Vapor  \\\n",
              "0               38                              8.1          2653    417   \n",
              "1               41                              9.9          2682    408   \n",
              "2               46                              9.6          1899    317   \n",
              "3               46                              8.5          2244    363   \n",
              "4               48                              7.2          2321    457   \n",
              "\n",
              "   Agua  Carburo de silicio  Plata  Electricidad.1  Vidrio  Aluminio  ...  \\\n",
              "0   499                 183     76             789      64        14  ...   \n",
              "1   498                 166     63             756      60        13  ...   \n",
              "2   565                 183     77             736      71        10  ...   \n",
              "3   447                 170     80             650      69        10  ...   \n",
              "4   546                 142     63             711      71        13  ...   \n",
              "\n",
              "   Electricidad.3  Combustible diésel  Metal de silicio (grado metalúrgico)  \\\n",
              "0             9.5                  37                                   3.3   \n",
              "1             7.9                  31                                   3.4   \n",
              "2             8.0                  34                                   2.5   \n",
              "3             7.9                  40                                   3.2   \n",
              "4            10.6                  41                                   3.0   \n",
              "\n",
              "   Plata.1  Human health (total)  Ecosystems (total)  Resources (total)  \\\n",
              "0       78              0.006573            0.000019          94.343988   \n",
              "1       66              0.006360            0.000019          89.776952   \n",
              "2       74              0.006370            0.000019          91.499675   \n",
              "3       81              0.006340            0.000019          85.961742   \n",
              "4       81              0.005990            0.000017          83.108647   \n",
              "\n",
              "   Human health (recycling)  Ecosystems (recycling)  Resources (recycling)  \n",
              "0                 -0.000008           -9.900000e-09               0.072561  \n",
              "1                 -0.000008           -9.480000e-09               0.044545  \n",
              "2                 -0.000008           -9.210000e-09               0.062594  \n",
              "3                 -0.000008           -9.960000e-09               0.087927  \n",
              "4                 -0.000008           -9.710000e-09               0.097153  \n",
              "\n",
              "[5 rows x 25 columns]"
            ],
            "text/html": [
              "\n",
              "  <div id=\"df-aab88eb5-fc41-4f4c-b8e2-3a69f6dc1279\">\n",
              "    <div class=\"colab-df-container\">\n",
              "      <div>\n",
              "<style scoped>\n",
              "    .dataframe tbody tr th:only-of-type {\n",
              "        vertical-align: middle;\n",
              "    }\n",
              "\n",
              "    .dataframe tbody tr th {\n",
              "        vertical-align: top;\n",
              "    }\n",
              "\n",
              "    .dataframe thead th {\n",
              "        text-align: right;\n",
              "    }\n",
              "</style>\n",
              "<table border=\"1\" class=\"dataframe\">\n",
              "  <thead>\n",
              "    <tr style=\"text-align: right;\">\n",
              "      <th></th>\n",
              "      <th>Arena de cuarzo</th>\n",
              "      <th>Tetracloruro de silicio (&gt; 99%)</th>\n",
              "      <th>Electricidad</th>\n",
              "      <th>Vapor</th>\n",
              "      <th>Agua</th>\n",
              "      <th>Carburo de silicio</th>\n",
              "      <th>Plata</th>\n",
              "      <th>Electricidad.1</th>\n",
              "      <th>Vidrio</th>\n",
              "      <th>Aluminio</th>\n",
              "      <th>...</th>\n",
              "      <th>Electricidad.3</th>\n",
              "      <th>Combustible diésel</th>\n",
              "      <th>Metal de silicio (grado metalúrgico)</th>\n",
              "      <th>Plata.1</th>\n",
              "      <th>Human health (total)</th>\n",
              "      <th>Ecosystems (total)</th>\n",
              "      <th>Resources (total)</th>\n",
              "      <th>Human health (recycling)</th>\n",
              "      <th>Ecosystems (recycling)</th>\n",
              "      <th>Resources (recycling)</th>\n",
              "    </tr>\n",
              "  </thead>\n",
              "  <tbody>\n",
              "    <tr>\n",
              "      <th>0</th>\n",
              "      <td>38</td>\n",
              "      <td>8.1</td>\n",
              "      <td>2653</td>\n",
              "      <td>417</td>\n",
              "      <td>499</td>\n",
              "      <td>183</td>\n",
              "      <td>76</td>\n",
              "      <td>789</td>\n",
              "      <td>64</td>\n",
              "      <td>14</td>\n",
              "      <td>...</td>\n",
              "      <td>9.5</td>\n",
              "      <td>37</td>\n",
              "      <td>3.3</td>\n",
              "      <td>78</td>\n",
              "      <td>0.006573</td>\n",
              "      <td>0.000019</td>\n",
              "      <td>94.343988</td>\n",
              "      <td>-0.000008</td>\n",
              "      <td>-9.900000e-09</td>\n",
              "      <td>0.072561</td>\n",
              "    </tr>\n",
              "    <tr>\n",
              "      <th>1</th>\n",
              "      <td>41</td>\n",
              "      <td>9.9</td>\n",
              "      <td>2682</td>\n",
              "      <td>408</td>\n",
              "      <td>498</td>\n",
              "      <td>166</td>\n",
              "      <td>63</td>\n",
              "      <td>756</td>\n",
              "      <td>60</td>\n",
              "      <td>13</td>\n",
              "      <td>...</td>\n",
              "      <td>7.9</td>\n",
              "      <td>31</td>\n",
              "      <td>3.4</td>\n",
              "      <td>66</td>\n",
              "      <td>0.006360</td>\n",
              "      <td>0.000019</td>\n",
              "      <td>89.776952</td>\n",
              "      <td>-0.000008</td>\n",
              "      <td>-9.480000e-09</td>\n",
              "      <td>0.044545</td>\n",
              "    </tr>\n",
              "    <tr>\n",
              "      <th>2</th>\n",
              "      <td>46</td>\n",
              "      <td>9.6</td>\n",
              "      <td>1899</td>\n",
              "      <td>317</td>\n",
              "      <td>565</td>\n",
              "      <td>183</td>\n",
              "      <td>77</td>\n",
              "      <td>736</td>\n",
              "      <td>71</td>\n",
              "      <td>10</td>\n",
              "      <td>...</td>\n",
              "      <td>8.0</td>\n",
              "      <td>34</td>\n",
              "      <td>2.5</td>\n",
              "      <td>74</td>\n",
              "      <td>0.006370</td>\n",
              "      <td>0.000019</td>\n",
              "      <td>91.499675</td>\n",
              "      <td>-0.000008</td>\n",
              "      <td>-9.210000e-09</td>\n",
              "      <td>0.062594</td>\n",
              "    </tr>\n",
              "    <tr>\n",
              "      <th>3</th>\n",
              "      <td>46</td>\n",
              "      <td>8.5</td>\n",
              "      <td>2244</td>\n",
              "      <td>363</td>\n",
              "      <td>447</td>\n",
              "      <td>170</td>\n",
              "      <td>80</td>\n",
              "      <td>650</td>\n",
              "      <td>69</td>\n",
              "      <td>10</td>\n",
              "      <td>...</td>\n",
              "      <td>7.9</td>\n",
              "      <td>40</td>\n",
              "      <td>3.2</td>\n",
              "      <td>81</td>\n",
              "      <td>0.006340</td>\n",
              "      <td>0.000019</td>\n",
              "      <td>85.961742</td>\n",
              "      <td>-0.000008</td>\n",
              "      <td>-9.960000e-09</td>\n",
              "      <td>0.087927</td>\n",
              "    </tr>\n",
              "    <tr>\n",
              "      <th>4</th>\n",
              "      <td>48</td>\n",
              "      <td>7.2</td>\n",
              "      <td>2321</td>\n",
              "      <td>457</td>\n",
              "      <td>546</td>\n",
              "      <td>142</td>\n",
              "      <td>63</td>\n",
              "      <td>711</td>\n",
              "      <td>71</td>\n",
              "      <td>13</td>\n",
              "      <td>...</td>\n",
              "      <td>10.6</td>\n",
              "      <td>41</td>\n",
              "      <td>3.0</td>\n",
              "      <td>81</td>\n",
              "      <td>0.005990</td>\n",
              "      <td>0.000017</td>\n",
              "      <td>83.108647</td>\n",
              "      <td>-0.000008</td>\n",
              "      <td>-9.710000e-09</td>\n",
              "      <td>0.097153</td>\n",
              "    </tr>\n",
              "  </tbody>\n",
              "</table>\n",
              "<p>5 rows × 25 columns</p>\n",
              "</div>\n",
              "      <button class=\"colab-df-convert\" onclick=\"convertToInteractive('df-aab88eb5-fc41-4f4c-b8e2-3a69f6dc1279')\"\n",
              "              title=\"Convert this dataframe to an interactive table.\"\n",
              "              style=\"display:none;\">\n",
              "        \n",
              "  <svg xmlns=\"http://www.w3.org/2000/svg\" height=\"24px\"viewBox=\"0 0 24 24\"\n",
              "       width=\"24px\">\n",
              "    <path d=\"M0 0h24v24H0V0z\" fill=\"none\"/>\n",
              "    <path d=\"M18.56 5.44l.94 2.06.94-2.06 2.06-.94-2.06-.94-.94-2.06-.94 2.06-2.06.94zm-11 1L8.5 8.5l.94-2.06 2.06-.94-2.06-.94L8.5 2.5l-.94 2.06-2.06.94zm10 10l.94 2.06.94-2.06 2.06-.94-2.06-.94-.94-2.06-.94 2.06-2.06.94z\"/><path d=\"M17.41 7.96l-1.37-1.37c-.4-.4-.92-.59-1.43-.59-.52 0-1.04.2-1.43.59L10.3 9.45l-7.72 7.72c-.78.78-.78 2.05 0 2.83L4 21.41c.39.39.9.59 1.41.59.51 0 1.02-.2 1.41-.59l7.78-7.78 2.81-2.81c.8-.78.8-2.07 0-2.86zM5.41 20L4 18.59l7.72-7.72 1.47 1.35L5.41 20z\"/>\n",
              "  </svg>\n",
              "      </button>\n",
              "      \n",
              "  <style>\n",
              "    .colab-df-container {\n",
              "      display:flex;\n",
              "      flex-wrap:wrap;\n",
              "      gap: 12px;\n",
              "    }\n",
              "\n",
              "    .colab-df-convert {\n",
              "      background-color: #E8F0FE;\n",
              "      border: none;\n",
              "      border-radius: 50%;\n",
              "      cursor: pointer;\n",
              "      display: none;\n",
              "      fill: #1967D2;\n",
              "      height: 32px;\n",
              "      padding: 0 0 0 0;\n",
              "      width: 32px;\n",
              "    }\n",
              "\n",
              "    .colab-df-convert:hover {\n",
              "      background-color: #E2EBFA;\n",
              "      box-shadow: 0px 1px 2px rgba(60, 64, 67, 0.3), 0px 1px 3px 1px rgba(60, 64, 67, 0.15);\n",
              "      fill: #174EA6;\n",
              "    }\n",
              "\n",
              "    [theme=dark] .colab-df-convert {\n",
              "      background-color: #3B4455;\n",
              "      fill: #D2E3FC;\n",
              "    }\n",
              "\n",
              "    [theme=dark] .colab-df-convert:hover {\n",
              "      background-color: #434B5C;\n",
              "      box-shadow: 0px 1px 3px 1px rgba(0, 0, 0, 0.15);\n",
              "      filter: drop-shadow(0px 1px 2px rgba(0, 0, 0, 0.3));\n",
              "      fill: #FFFFFF;\n",
              "    }\n",
              "  </style>\n",
              "\n",
              "      <script>\n",
              "        const buttonEl =\n",
              "          document.querySelector('#df-aab88eb5-fc41-4f4c-b8e2-3a69f6dc1279 button.colab-df-convert');\n",
              "        buttonEl.style.display =\n",
              "          google.colab.kernel.accessAllowed ? 'block' : 'none';\n",
              "\n",
              "        async function convertToInteractive(key) {\n",
              "          const element = document.querySelector('#df-aab88eb5-fc41-4f4c-b8e2-3a69f6dc1279');\n",
              "          const dataTable =\n",
              "            await google.colab.kernel.invokeFunction('convertToInteractive',\n",
              "                                                     [key], {});\n",
              "          if (!dataTable) return;\n",
              "\n",
              "          const docLinkHtml = 'Like what you see? Visit the ' +\n",
              "            '<a target=\"_blank\" href=https://colab.research.google.com/notebooks/data_table.ipynb>data table notebook</a>'\n",
              "            + ' to learn more about interactive tables.';\n",
              "          element.innerHTML = '';\n",
              "          dataTable['output_type'] = 'display_data';\n",
              "          await google.colab.output.renderOutput(dataTable, element);\n",
              "          const docLink = document.createElement('div');\n",
              "          docLink.innerHTML = docLinkHtml;\n",
              "          element.appendChild(docLink);\n",
              "        }\n",
              "      </script>\n",
              "    </div>\n",
              "  </div>\n",
              "  "
            ]
          },
          "metadata": {},
          "execution_count": 167
        }
      ],
      "source": [
        "Data = pd.read_csv(\"Dato 4.csv\")\n",
        "Data.head()"
      ]
    },
    {
      "cell_type": "code",
      "execution_count": 168,
      "id": "b3cc2c80-baed-4e06-8eb7-d2c33ce1fcab",
      "metadata": {
        "id": "b3cc2c80-baed-4e06-8eb7-d2c33ce1fcab"
      },
      "outputs": [],
      "source": [
        "X = Data.iloc[:,:-6].values\n",
        "Y = Data.iloc[:,19:].values"
      ]
    },
    {
      "cell_type": "code",
      "execution_count": 169,
      "id": "5de8f1dc-2c77-4fbd-9363-246e11b68fad",
      "metadata": {
        "id": "5de8f1dc-2c77-4fbd-9363-246e11b68fad"
      },
      "outputs": [],
      "source": [
        "from sklearn.model_selection import train_test_split\n",
        "X_train, X_test, y_train, y_test = train_test_split(X, Y, test_size = 0.2, random_state = 0)"
      ]
    },
    {
      "cell_type": "code",
      "execution_count": 170,
      "id": "9743a2e5-1442-41c9-b62a-d66dd2316f7b",
      "metadata": {
        "colab": {
          "base_uri": "https://localhost:8080/",
          "height": 75
        },
        "id": "9743a2e5-1442-41c9-b62a-d66dd2316f7b",
        "outputId": "60e7d1e7-db7c-46af-adab-09c004713c08"
      },
      "outputs": [
        {
          "output_type": "execute_result",
          "data": {
            "text/plain": [
              "LinearRegression()"
            ],
            "text/html": [
              "<style>#sk-container-id-3 {color: black;background-color: white;}#sk-container-id-3 pre{padding: 0;}#sk-container-id-3 div.sk-toggleable {background-color: white;}#sk-container-id-3 label.sk-toggleable__label {cursor: pointer;display: block;width: 100%;margin-bottom: 0;padding: 0.3em;box-sizing: border-box;text-align: center;}#sk-container-id-3 label.sk-toggleable__label-arrow:before {content: \"▸\";float: left;margin-right: 0.25em;color: #696969;}#sk-container-id-3 label.sk-toggleable__label-arrow:hover:before {color: black;}#sk-container-id-3 div.sk-estimator:hover label.sk-toggleable__label-arrow:before {color: black;}#sk-container-id-3 div.sk-toggleable__content {max-height: 0;max-width: 0;overflow: hidden;text-align: left;background-color: #f0f8ff;}#sk-container-id-3 div.sk-toggleable__content pre {margin: 0.2em;color: black;border-radius: 0.25em;background-color: #f0f8ff;}#sk-container-id-3 input.sk-toggleable__control:checked~div.sk-toggleable__content {max-height: 200px;max-width: 100%;overflow: auto;}#sk-container-id-3 input.sk-toggleable__control:checked~label.sk-toggleable__label-arrow:before {content: \"▾\";}#sk-container-id-3 div.sk-estimator input.sk-toggleable__control:checked~label.sk-toggleable__label {background-color: #d4ebff;}#sk-container-id-3 div.sk-label input.sk-toggleable__control:checked~label.sk-toggleable__label {background-color: #d4ebff;}#sk-container-id-3 input.sk-hidden--visually {border: 0;clip: rect(1px 1px 1px 1px);clip: rect(1px, 1px, 1px, 1px);height: 1px;margin: -1px;overflow: hidden;padding: 0;position: absolute;width: 1px;}#sk-container-id-3 div.sk-estimator {font-family: monospace;background-color: #f0f8ff;border: 1px dotted black;border-radius: 0.25em;box-sizing: border-box;margin-bottom: 0.5em;}#sk-container-id-3 div.sk-estimator:hover {background-color: #d4ebff;}#sk-container-id-3 div.sk-parallel-item::after {content: \"\";width: 100%;border-bottom: 1px solid gray;flex-grow: 1;}#sk-container-id-3 div.sk-label:hover label.sk-toggleable__label {background-color: #d4ebff;}#sk-container-id-3 div.sk-serial::before {content: \"\";position: absolute;border-left: 1px solid gray;box-sizing: border-box;top: 0;bottom: 0;left: 50%;z-index: 0;}#sk-container-id-3 div.sk-serial {display: flex;flex-direction: column;align-items: center;background-color: white;padding-right: 0.2em;padding-left: 0.2em;position: relative;}#sk-container-id-3 div.sk-item {position: relative;z-index: 1;}#sk-container-id-3 div.sk-parallel {display: flex;align-items: stretch;justify-content: center;background-color: white;position: relative;}#sk-container-id-3 div.sk-item::before, #sk-container-id-3 div.sk-parallel-item::before {content: \"\";position: absolute;border-left: 1px solid gray;box-sizing: border-box;top: 0;bottom: 0;left: 50%;z-index: -1;}#sk-container-id-3 div.sk-parallel-item {display: flex;flex-direction: column;z-index: 1;position: relative;background-color: white;}#sk-container-id-3 div.sk-parallel-item:first-child::after {align-self: flex-end;width: 50%;}#sk-container-id-3 div.sk-parallel-item:last-child::after {align-self: flex-start;width: 50%;}#sk-container-id-3 div.sk-parallel-item:only-child::after {width: 0;}#sk-container-id-3 div.sk-dashed-wrapped {border: 1px dashed gray;margin: 0 0.4em 0.5em 0.4em;box-sizing: border-box;padding-bottom: 0.4em;background-color: white;}#sk-container-id-3 div.sk-label label {font-family: monospace;font-weight: bold;display: inline-block;line-height: 1.2em;}#sk-container-id-3 div.sk-label-container {text-align: center;}#sk-container-id-3 div.sk-container {/* jupyter's `normalize.less` sets `[hidden] { display: none; }` but bootstrap.min.css set `[hidden] { display: none !important; }` so we also need the `!important` here to be able to override the default hidden behavior on the sphinx rendered scikit-learn.org. See: https://github.com/scikit-learn/scikit-learn/issues/21755 */display: inline-block !important;position: relative;}#sk-container-id-3 div.sk-text-repr-fallback {display: none;}</style><div id=\"sk-container-id-3\" class=\"sk-top-container\"><div class=\"sk-text-repr-fallback\"><pre>LinearRegression()</pre><b>In a Jupyter environment, please rerun this cell to show the HTML representation or trust the notebook. <br />On GitHub, the HTML representation is unable to render, please try loading this page with nbviewer.org.</b></div><div class=\"sk-container\" hidden><div class=\"sk-item\"><div class=\"sk-estimator sk-toggleable\"><input class=\"sk-toggleable__control sk-hidden--visually\" id=\"sk-estimator-id-3\" type=\"checkbox\" checked><label for=\"sk-estimator-id-3\" class=\"sk-toggleable__label sk-toggleable__label-arrow\">LinearRegression</label><div class=\"sk-toggleable__content\"><pre>LinearRegression()</pre></div></div></div></div></div>"
            ]
          },
          "metadata": {},
          "execution_count": 170
        }
      ],
      "source": [
        "from sklearn.linear_model import LinearRegression\n",
        "regressor = LinearRegression()\n",
        "regressor.fit(X_train, y_train)"
      ]
    },
    {
      "cell_type": "code",
      "execution_count": 171,
      "id": "4e3bbcd1-951e-4c3a-8bc2-8f6c95c3ad94",
      "metadata": {
        "id": "4e3bbcd1-951e-4c3a-8bc2-8f6c95c3ad94"
      },
      "outputs": [],
      "source": [
        "y_pred = regressor.predict(X_test)"
      ]
    },
    {
      "cell_type": "code",
      "execution_count": 172,
      "id": "ac48f986-ce86-4509-98ff-ad42640573c6",
      "metadata": {
        "colab": {
          "base_uri": "https://localhost:8080/"
        },
        "id": "ac48f986-ce86-4509-98ff-ad42640573c6",
        "outputId": "d1420f35-dc02-472a-b69d-755cfddc72be"
      },
      "outputs": [
        {
          "output_type": "execute_result",
          "data": {
            "text/plain": [
              "0.944065529121341"
            ]
          },
          "metadata": {},
          "execution_count": 172
        }
      ],
      "source": [
        "from sklearn.metrics import r2_score\n",
        "r2_score(y_test, y_pred)"
      ]
    },
    {
      "cell_type": "code",
      "execution_count": 173,
      "id": "8ef115ca-99f1-4895-a63c-cbbbe8e26914",
      "metadata": {
        "colab": {
          "base_uri": "https://localhost:8080/"
        },
        "id": "8ef115ca-99f1-4895-a63c-cbbbe8e26914",
        "outputId": "5ff4a0a0-fd06-4a10-d7e9-1ab03f6908c0"
      },
      "outputs": [
        {
          "output_type": "stream",
          "name": "stdout",
          "text": [
            "[ 3.41681289e-03  9.69725081e-06  6.30990446e+00 -3.17721064e-06\n",
            " -4.44226984e-09 -6.53858900e-02]\n"
          ]
        }
      ],
      "source": [
        "print(regressor.intercept_)"
      ]
    },
    {
      "cell_type": "code",
      "execution_count": 174,
      "id": "9aacafad-efff-461c-b872-cd5fa4e292e6",
      "metadata": {
        "colab": {
          "base_uri": "https://localhost:8080/"
        },
        "id": "9aacafad-efff-461c-b872-cd5fa4e292e6",
        "outputId": "90d7c556-42fa-44c8-a8ff-572b1b918c87"
      },
      "outputs": [
        {
          "output_type": "stream",
          "name": "stdout",
          "text": [
            "[[-3.55335518e-08  8.79551358e-06  7.42185812e-08  9.90663691e-08\n",
            "   7.87720250e-11  6.74421840e-06  1.60390447e-06  1.16368827e-07\n",
            "   2.46064197e-06  2.70789988e-05  2.68894149e-05  4.47856112e-06\n",
            "   4.50735226e-07  1.53815552e-04  1.44660012e-06 -7.66783533e-07\n",
            "  -2.11596575e-07 -1.17070502e-06 -1.09478287e-07]\n",
            " [ 3.71650333e-10  2.03907581e-08  1.31787397e-10  2.41878934e-10\n",
            "   1.76064875e-09  1.17625674e-08  1.81960883e-09  2.02762776e-10\n",
            "   4.84994133e-09  5.84299145e-08  6.14957186e-08  9.68873987e-09\n",
            "   5.72251882e-10  9.32840042e-07  1.45849498e-09  1.85267835e-09\n",
            "   3.06051627e-10 -1.47185417e-08  1.91230782e-12]\n",
            " [-1.74699434e-03  1.51576543e-01  2.71818176e-03  5.50326187e-03\n",
            "  -1.81076165e-04  2.16537322e-01  2.08271517e-02  4.33375701e-03\n",
            "   7.93165362e-02  6.12928602e-01  6.92299474e-01  5.78362243e-01\n",
            "   1.54697624e-02  3.82685318e-01  5.26520952e-01 -2.15323282e-02\n",
            "   3.64931574e-05 -2.40038876e-02 -2.94261246e-03]\n",
            " [ 8.51449577e-10  1.17600304e-09  8.22579140e-12  7.64149538e-12\n",
            "  -1.68592190e-11 -7.24892968e-11  4.43356902e-10 -5.87959400e-12\n",
            "   2.92194768e-10  2.56718413e-09  2.03648950e-08 -1.78993016e-09\n",
            "  -3.02709882e-11  1.54987813e-10  1.58686269e-12  2.08695586e-08\n",
            "   1.79491757e-08 -3.71397889e-07 -6.25522333e-08]\n",
            " [ 8.37567045e-13  1.42730110e-12  9.95331620e-15  3.15234461e-15\n",
            "  -1.86103436e-14 -5.66942262e-14  4.51130280e-13 -9.90979383e-15\n",
            "   2.13673143e-13  2.20704152e-12  1.49528071e-11 -2.06601184e-12\n",
            "  -1.93636657e-14  7.54504201e-13 -6.78123571e-14  3.03176979e-11\n",
            "   3.20740395e-11 -7.27948690e-10 -5.97838501e-11]\n",
            " [-5.79007419e-06 -9.62181745e-07 -7.51755798e-08  1.92521171e-07\n",
            "  -1.11366522e-08 -2.59790525e-08 -6.86720915e-06 -2.25341923e-07\n",
            "  -9.13017723e-06 -4.48315449e-05 -2.58546445e-04  5.83832158e-05\n",
            "   3.18339274e-06  6.95905412e-06 -1.25473373e-06  5.79697915e-04\n",
            "   6.05069582e-03 -7.18325941e-03 -8.41941066e-04]]\n"
          ]
        }
      ],
      "source": [
        "print(regressor.coef_)"
      ]
    },
    {
      "cell_type": "code",
      "execution_count": 175,
      "id": "d9448d85-ae9c-4616-8ecc-6e804cad4916",
      "metadata": {
        "colab": {
          "base_uri": "https://localhost:8080/"
        },
        "id": "d9448d85-ae9c-4616-8ecc-6e804cad4916",
        "outputId": "7238dc11-d21a-44a0-fb4b-56a6f4c46eb1"
      },
      "outputs": [
        {
          "output_type": "stream",
          "name": "stdout",
          "text": [
            "Prediccion: [[ 6.23832375e-03  1.87394528e-05  8.43876146e+01 -7.14082080e-06\n",
            "  -8.54649075e-09  1.18157970e-01]]\n"
          ]
        }
      ],
      "source": [
        "input_data = np.array([[50,9.6,2263,336,521,152,59,759,60,14,2.2,7.1,78,4.4,19,10.9,42,2.8,65]])\n",
        "prediction = regressor.predict(input_data)\n",
        "print(\"Prediccion: %s\" % prediction)"
      ]
    },
    {
      "cell_type": "code",
      "execution_count": null,
      "id": "33da4f62-d188-4f1e-9ae9-d3502bea0dad",
      "metadata": {
        "id": "33da4f62-d188-4f1e-9ae9-d3502bea0dad"
      },
      "outputs": [],
      "source": [
        "54,8.4,1851,398,462,171,65,639,72,12,2.2,8,73,3.5,21,9.9,28,2.6,75"
      ]
    }
  ],
  "metadata": {
    "kernelspec": {
      "display_name": "Python 3 (ipykernel)",
      "language": "python",
      "name": "python3"
    },
    "language_info": {
      "codemirror_mode": {
        "name": "ipython",
        "version": 3
      },
      "file_extension": ".py",
      "mimetype": "text/x-python",
      "name": "python",
      "nbconvert_exporter": "python",
      "pygments_lexer": "ipython3",
      "version": "3.9.12"
    },
    "colab": {
      "provenance": []
    }
  },
  "nbformat": 4,
  "nbformat_minor": 5
}